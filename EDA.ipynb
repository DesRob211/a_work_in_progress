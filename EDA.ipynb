{
 "cells": [
  {
   "cell_type": "code",
   "execution_count": 4,
   "id": "03a25dba-1ce6-457a-8979-c493fd7a324f",
   "metadata": {},
   "outputs": [],
   "source": [
    "import pandas as pd\n",
    "import streamlit as st\n",
    "import plotly.express as px\n"
   ]
  },
  {
   "cell_type": "code",
   "execution_count": 5,
   "id": "f933b7ee-b108-4f75-9b0a-85765b874ce3",
   "metadata": {},
   "outputs": [
    {
     "ename": "FileNotFoundError",
     "evalue": "[Errno 2] No such file or directory: 'vehicles_us.csv'",
     "output_type": "error",
     "traceback": [
      "\u001b[1;31m---------------------------------------------------------------------------\u001b[0m",
      "\u001b[1;31mFileNotFoundError\u001b[0m                         Traceback (most recent call last)",
      "Cell \u001b[1;32mIn[5], line 1\u001b[0m\n\u001b[1;32m----> 1\u001b[0m df \u001b[38;5;241m=\u001b[39m pd\u001b[38;5;241m.\u001b[39mread_csv(\u001b[38;5;124m'\u001b[39m\u001b[38;5;124mvehicles_us.csv\u001b[39m\u001b[38;5;124m'\u001b[39m)\n",
      "File \u001b[1;32m~\\anaconda3\\Lib\\site-packages\\pandas\\io\\parsers\\readers.py:1026\u001b[0m, in \u001b[0;36mread_csv\u001b[1;34m(filepath_or_buffer, sep, delimiter, header, names, index_col, usecols, dtype, engine, converters, true_values, false_values, skipinitialspace, skiprows, skipfooter, nrows, na_values, keep_default_na, na_filter, verbose, skip_blank_lines, parse_dates, infer_datetime_format, keep_date_col, date_parser, date_format, dayfirst, cache_dates, iterator, chunksize, compression, thousands, decimal, lineterminator, quotechar, quoting, doublequote, escapechar, comment, encoding, encoding_errors, dialect, on_bad_lines, delim_whitespace, low_memory, memory_map, float_precision, storage_options, dtype_backend)\u001b[0m\n\u001b[0;32m   1013\u001b[0m kwds_defaults \u001b[38;5;241m=\u001b[39m _refine_defaults_read(\n\u001b[0;32m   1014\u001b[0m     dialect,\n\u001b[0;32m   1015\u001b[0m     delimiter,\n\u001b[1;32m   (...)\u001b[0m\n\u001b[0;32m   1022\u001b[0m     dtype_backend\u001b[38;5;241m=\u001b[39mdtype_backend,\n\u001b[0;32m   1023\u001b[0m )\n\u001b[0;32m   1024\u001b[0m kwds\u001b[38;5;241m.\u001b[39mupdate(kwds_defaults)\n\u001b[1;32m-> 1026\u001b[0m \u001b[38;5;28;01mreturn\u001b[39;00m _read(filepath_or_buffer, kwds)\n",
      "File \u001b[1;32m~\\anaconda3\\Lib\\site-packages\\pandas\\io\\parsers\\readers.py:620\u001b[0m, in \u001b[0;36m_read\u001b[1;34m(filepath_or_buffer, kwds)\u001b[0m\n\u001b[0;32m    617\u001b[0m _validate_names(kwds\u001b[38;5;241m.\u001b[39mget(\u001b[38;5;124m\"\u001b[39m\u001b[38;5;124mnames\u001b[39m\u001b[38;5;124m\"\u001b[39m, \u001b[38;5;28;01mNone\u001b[39;00m))\n\u001b[0;32m    619\u001b[0m \u001b[38;5;66;03m# Create the parser.\u001b[39;00m\n\u001b[1;32m--> 620\u001b[0m parser \u001b[38;5;241m=\u001b[39m TextFileReader(filepath_or_buffer, \u001b[38;5;241m*\u001b[39m\u001b[38;5;241m*\u001b[39mkwds)\n\u001b[0;32m    622\u001b[0m \u001b[38;5;28;01mif\u001b[39;00m chunksize \u001b[38;5;129;01mor\u001b[39;00m iterator:\n\u001b[0;32m    623\u001b[0m     \u001b[38;5;28;01mreturn\u001b[39;00m parser\n",
      "File \u001b[1;32m~\\anaconda3\\Lib\\site-packages\\pandas\\io\\parsers\\readers.py:1620\u001b[0m, in \u001b[0;36mTextFileReader.__init__\u001b[1;34m(self, f, engine, **kwds)\u001b[0m\n\u001b[0;32m   1617\u001b[0m     \u001b[38;5;28mself\u001b[39m\u001b[38;5;241m.\u001b[39moptions[\u001b[38;5;124m\"\u001b[39m\u001b[38;5;124mhas_index_names\u001b[39m\u001b[38;5;124m\"\u001b[39m] \u001b[38;5;241m=\u001b[39m kwds[\u001b[38;5;124m\"\u001b[39m\u001b[38;5;124mhas_index_names\u001b[39m\u001b[38;5;124m\"\u001b[39m]\n\u001b[0;32m   1619\u001b[0m \u001b[38;5;28mself\u001b[39m\u001b[38;5;241m.\u001b[39mhandles: IOHandles \u001b[38;5;241m|\u001b[39m \u001b[38;5;28;01mNone\u001b[39;00m \u001b[38;5;241m=\u001b[39m \u001b[38;5;28;01mNone\u001b[39;00m\n\u001b[1;32m-> 1620\u001b[0m \u001b[38;5;28mself\u001b[39m\u001b[38;5;241m.\u001b[39m_engine \u001b[38;5;241m=\u001b[39m \u001b[38;5;28mself\u001b[39m\u001b[38;5;241m.\u001b[39m_make_engine(f, \u001b[38;5;28mself\u001b[39m\u001b[38;5;241m.\u001b[39mengine)\n",
      "File \u001b[1;32m~\\anaconda3\\Lib\\site-packages\\pandas\\io\\parsers\\readers.py:1880\u001b[0m, in \u001b[0;36mTextFileReader._make_engine\u001b[1;34m(self, f, engine)\u001b[0m\n\u001b[0;32m   1878\u001b[0m     \u001b[38;5;28;01mif\u001b[39;00m \u001b[38;5;124m\"\u001b[39m\u001b[38;5;124mb\u001b[39m\u001b[38;5;124m\"\u001b[39m \u001b[38;5;129;01mnot\u001b[39;00m \u001b[38;5;129;01min\u001b[39;00m mode:\n\u001b[0;32m   1879\u001b[0m         mode \u001b[38;5;241m+\u001b[39m\u001b[38;5;241m=\u001b[39m \u001b[38;5;124m\"\u001b[39m\u001b[38;5;124mb\u001b[39m\u001b[38;5;124m\"\u001b[39m\n\u001b[1;32m-> 1880\u001b[0m \u001b[38;5;28mself\u001b[39m\u001b[38;5;241m.\u001b[39mhandles \u001b[38;5;241m=\u001b[39m get_handle(\n\u001b[0;32m   1881\u001b[0m     f,\n\u001b[0;32m   1882\u001b[0m     mode,\n\u001b[0;32m   1883\u001b[0m     encoding\u001b[38;5;241m=\u001b[39m\u001b[38;5;28mself\u001b[39m\u001b[38;5;241m.\u001b[39moptions\u001b[38;5;241m.\u001b[39mget(\u001b[38;5;124m\"\u001b[39m\u001b[38;5;124mencoding\u001b[39m\u001b[38;5;124m\"\u001b[39m, \u001b[38;5;28;01mNone\u001b[39;00m),\n\u001b[0;32m   1884\u001b[0m     compression\u001b[38;5;241m=\u001b[39m\u001b[38;5;28mself\u001b[39m\u001b[38;5;241m.\u001b[39moptions\u001b[38;5;241m.\u001b[39mget(\u001b[38;5;124m\"\u001b[39m\u001b[38;5;124mcompression\u001b[39m\u001b[38;5;124m\"\u001b[39m, \u001b[38;5;28;01mNone\u001b[39;00m),\n\u001b[0;32m   1885\u001b[0m     memory_map\u001b[38;5;241m=\u001b[39m\u001b[38;5;28mself\u001b[39m\u001b[38;5;241m.\u001b[39moptions\u001b[38;5;241m.\u001b[39mget(\u001b[38;5;124m\"\u001b[39m\u001b[38;5;124mmemory_map\u001b[39m\u001b[38;5;124m\"\u001b[39m, \u001b[38;5;28;01mFalse\u001b[39;00m),\n\u001b[0;32m   1886\u001b[0m     is_text\u001b[38;5;241m=\u001b[39mis_text,\n\u001b[0;32m   1887\u001b[0m     errors\u001b[38;5;241m=\u001b[39m\u001b[38;5;28mself\u001b[39m\u001b[38;5;241m.\u001b[39moptions\u001b[38;5;241m.\u001b[39mget(\u001b[38;5;124m\"\u001b[39m\u001b[38;5;124mencoding_errors\u001b[39m\u001b[38;5;124m\"\u001b[39m, \u001b[38;5;124m\"\u001b[39m\u001b[38;5;124mstrict\u001b[39m\u001b[38;5;124m\"\u001b[39m),\n\u001b[0;32m   1888\u001b[0m     storage_options\u001b[38;5;241m=\u001b[39m\u001b[38;5;28mself\u001b[39m\u001b[38;5;241m.\u001b[39moptions\u001b[38;5;241m.\u001b[39mget(\u001b[38;5;124m\"\u001b[39m\u001b[38;5;124mstorage_options\u001b[39m\u001b[38;5;124m\"\u001b[39m, \u001b[38;5;28;01mNone\u001b[39;00m),\n\u001b[0;32m   1889\u001b[0m )\n\u001b[0;32m   1890\u001b[0m \u001b[38;5;28;01massert\u001b[39;00m \u001b[38;5;28mself\u001b[39m\u001b[38;5;241m.\u001b[39mhandles \u001b[38;5;129;01mis\u001b[39;00m \u001b[38;5;129;01mnot\u001b[39;00m \u001b[38;5;28;01mNone\u001b[39;00m\n\u001b[0;32m   1891\u001b[0m f \u001b[38;5;241m=\u001b[39m \u001b[38;5;28mself\u001b[39m\u001b[38;5;241m.\u001b[39mhandles\u001b[38;5;241m.\u001b[39mhandle\n",
      "File \u001b[1;32m~\\anaconda3\\Lib\\site-packages\\pandas\\io\\common.py:873\u001b[0m, in \u001b[0;36mget_handle\u001b[1;34m(path_or_buf, mode, encoding, compression, memory_map, is_text, errors, storage_options)\u001b[0m\n\u001b[0;32m    868\u001b[0m \u001b[38;5;28;01melif\u001b[39;00m \u001b[38;5;28misinstance\u001b[39m(handle, \u001b[38;5;28mstr\u001b[39m):\n\u001b[0;32m    869\u001b[0m     \u001b[38;5;66;03m# Check whether the filename is to be opened in binary mode.\u001b[39;00m\n\u001b[0;32m    870\u001b[0m     \u001b[38;5;66;03m# Binary mode does not support 'encoding' and 'newline'.\u001b[39;00m\n\u001b[0;32m    871\u001b[0m     \u001b[38;5;28;01mif\u001b[39;00m ioargs\u001b[38;5;241m.\u001b[39mencoding \u001b[38;5;129;01mand\u001b[39;00m \u001b[38;5;124m\"\u001b[39m\u001b[38;5;124mb\u001b[39m\u001b[38;5;124m\"\u001b[39m \u001b[38;5;129;01mnot\u001b[39;00m \u001b[38;5;129;01min\u001b[39;00m ioargs\u001b[38;5;241m.\u001b[39mmode:\n\u001b[0;32m    872\u001b[0m         \u001b[38;5;66;03m# Encoding\u001b[39;00m\n\u001b[1;32m--> 873\u001b[0m         handle \u001b[38;5;241m=\u001b[39m \u001b[38;5;28mopen\u001b[39m(\n\u001b[0;32m    874\u001b[0m             handle,\n\u001b[0;32m    875\u001b[0m             ioargs\u001b[38;5;241m.\u001b[39mmode,\n\u001b[0;32m    876\u001b[0m             encoding\u001b[38;5;241m=\u001b[39mioargs\u001b[38;5;241m.\u001b[39mencoding,\n\u001b[0;32m    877\u001b[0m             errors\u001b[38;5;241m=\u001b[39merrors,\n\u001b[0;32m    878\u001b[0m             newline\u001b[38;5;241m=\u001b[39m\u001b[38;5;124m\"\u001b[39m\u001b[38;5;124m\"\u001b[39m,\n\u001b[0;32m    879\u001b[0m         )\n\u001b[0;32m    880\u001b[0m     \u001b[38;5;28;01melse\u001b[39;00m:\n\u001b[0;32m    881\u001b[0m         \u001b[38;5;66;03m# Binary mode\u001b[39;00m\n\u001b[0;32m    882\u001b[0m         handle \u001b[38;5;241m=\u001b[39m \u001b[38;5;28mopen\u001b[39m(handle, ioargs\u001b[38;5;241m.\u001b[39mmode)\n",
      "\u001b[1;31mFileNotFoundError\u001b[0m: [Errno 2] No such file or directory: 'vehicles_us.csv'"
     ]
    }
   ],
   "source": [
    "df = pd.read_csv('vehicles_us.csv')"
   ]
  },
  {
   "cell_type": "code",
   "execution_count": null,
   "id": "b7213369-dfc0-4f89-b085-9932be66c763",
   "metadata": {},
   "outputs": [],
   "source": [
    "df = df.drop(df.columns[0], axis=1)"
   ]
  },
  {
   "cell_type": "code",
   "execution_count": null,
   "id": "cda3afc7-cdfc-4b53-bb74-a04943e8dab5",
   "metadata": {},
   "outputs": [],
   "source": [
    "df"
   ]
  },
  {
   "cell_type": "code",
   "execution_count": null,
   "id": "e1171b49-6215-409d-a34a-989345e60292",
   "metadata": {},
   "outputs": [],
   "source": [
    "df.shape"
   ]
  },
  {
   "cell_type": "code",
   "execution_count": null,
   "id": "964d1525-bf80-4930-a58b-bb2d87c1648b",
   "metadata": {},
   "outputs": [],
   "source": [
    "the_new"
   ]
  },
  {
   "cell_type": "code",
   "execution_count": null,
   "id": "250af7ae-f4f6-471e-bee5-3993b257ede2",
   "metadata": {},
   "outputs": [],
   "source": [
    "if not the_new:\n",
    "    df= df[df.condition!='new']"
   ]
  },
  {
   "cell_type": "code",
   "execution_count": null,
   "id": "43bbde1d-6c00-4bfb-90a1-aeeb499aab5d",
   "metadata": {},
   "outputs": [],
   "source": [
    "min_year,max_year = int(df['model_year'].min()), int(df['model_year'].max())\n",
    "\n",
    "years_invovled = st.slider(\"Which Years?\", \n",
    "                           value=(min_year,_max_year), min_value=min_year,max_value=max_year)"
   ]
  },
  {
   "cell_type": "code",
   "execution_count": null,
   "id": "e20960c0-f27a-43d4-af54-16eaaed2928a",
   "metadata": {},
   "outputs": [],
   "source": [
    "df.columns"
   ]
  },
  {
   "cell_type": "code",
   "execution_count": null,
   "id": "968790a3-ebcb-4578-a476-d68e036623ce",
   "metadata": {},
   "outputs": [],
   "source": [
    "df['model'].unique()"
   ]
  },
  {
   "cell_type": "code",
   "execution_count": null,
   "id": "c02c71ac-bbdf-47c6-8114-6fd7eb4773d8",
   "metadata": {},
   "outputs": [],
   "source": [
    "df.info"
   ]
  },
  {
   "cell_type": "raw",
   "id": "36a0960e-24a1-4bf3-9e24-2d8859d0f4db",
   "metadata": {},
   "source": [
    "df.isna().sum()"
   ]
  },
  {
   "cell_type": "code",
   "execution_count": null,
   "id": "054fd29f-face-465d-8954-ad1c3aebab4e",
   "metadata": {},
   "outputs": [],
   "source": [
    "df.dropna()"
   ]
  },
  {
   "cell_type": "code",
   "execution_count": null,
   "id": "e84fead8-1f3a-4c76-8bfa-3bc39368cdc3",
   "metadata": {},
   "outputs": [],
   "source": [
    "df.describe()"
   ]
  },
  {
   "cell_type": "code",
   "execution_count": null,
   "id": "e7cab77e-a713-4a94-871b-a97fd14f44dd",
   "metadata": {},
   "outputs": [],
   "source": [
    "df['type'].unique()"
   ]
  },
  {
   "cell_type": "code",
   "execution_count": null,
   "id": "4a0fdd10-577f-4b6f-99c2-341cf8d212dd",
   "metadata": {},
   "outputs": [],
   "source": [
    "cars = df[df['type'].isin(['sedan', 'coupe','convertible', 'hatchback'])]\n",
    "\n",
    "family = df[df['type'].isin(['SUV', 'wagon', 'van', 'mini-van'])]\n",
    "\n",
    "trucks = df[df['type'].isin(['pickup', 'truck', 'offroad'])]\n",
    "\n",
    "party = df[df['type'].isin(['other','bus'])]"
   ]
  },
  {
   "cell_type": "code",
   "execution_count": null,
   "id": "514da869-a11b-446e-8787-217ee0e93e33",
   "metadata": {},
   "outputs": [],
   "source": [
    "trucks"
   ]
  },
  {
   "cell_type": "code",
   "execution_count": null,
   "id": "c79a24cc-68f4-48fe-8e4c-e74c92c0d714",
   "metadata": {},
   "outputs": [],
   "source": [
    "family"
   ]
  },
  {
   "cell_type": "code",
   "execution_count": null,
   "id": "4f6ebb37-5a8f-4334-98f1-e5716020e803",
   "metadata": {},
   "outputs": [],
   "source": [
    "cars"
   ]
  },
  {
   "cell_type": "code",
   "execution_count": null,
   "id": "96f522f0-5697-466e-a2bf-17c2ddd59677",
   "metadata": {},
   "outputs": [],
   "source": [
    "party"
   ]
  },
  {
   "cell_type": "code",
   "execution_count": null,
   "id": "41032c8e-0c97-4b87-a915-52ca2d1736cc",
   "metadata": {},
   "outputs": [],
   "source": [
    "df['model'].duplicated().sum()"
   ]
  },
  {
   "cell_type": "code",
   "execution_count": null,
   "id": "c5e7038f-9bb0-4d67-9a28-52fb6f036e00",
   "metadata": {},
   "outputs": [],
   "source": [
    "unique_models = df['model'].drop_duplicates()"
   ]
  },
  {
   "cell_type": "code",
   "execution_count": null,
   "id": "41777a31-cb77-42df-93fe-b4adac97d01b",
   "metadata": {},
   "outputs": [],
   "source": [
    "unique_models.shape"
   ]
  },
  {
   "cell_type": "code",
   "execution_count": null,
   "id": "d162bd56-e330-425d-9e7d-bb9d998ad5a5",
   "metadata": {},
   "outputs": [],
   "source": [
    "unique_models"
   ]
  },
  {
   "cell_type": "code",
   "execution_count": null,
   "id": "04670d93-0771-4761-8d51-200142bcd171",
   "metadata": {},
   "outputs": [],
   "source": [
    "df['transmission'].unique()"
   ]
  },
  {
   "cell_type": "code",
   "execution_count": null,
   "id": "29c03307-b696-477a-ad91-65349951c8e0",
   "metadata": {},
   "outputs": [],
   "source": [
    "auto = df[df['transmission'].isin(['automatic'])]\n",
    "\n",
    "auto"
   ]
  },
  {
   "cell_type": "code",
   "execution_count": null,
   "id": "1183b622-f3e3-47a4-9bcf-5bb14144c5bc",
   "metadata": {},
   "outputs": [],
   "source": [
    "stick = df[df['transmission'].isin(['manual'])]\n",
    "\n",
    "stick"
   ]
  },
  {
   "cell_type": "code",
   "execution_count": null,
   "id": "d799b25c-a538-4324-9cbc-1aba8888080f",
   "metadata": {},
   "outputs": [],
   "source": [
    "new = df[df['odometer'] < 80000]\n",
    "hmm = df[(df['odometer'] >= 80000) & (df['odometer'] <= 150000)]\n",
    "high = df[df['odometer'] > 150000]"
   ]
  },
  {
   "cell_type": "code",
   "execution_count": null,
   "id": "4d569d58-2fd6-4597-b0ea-eda53267fec2",
   "metadata": {},
   "outputs": [],
   "source": [
    "new"
   ]
  },
  {
   "cell_type": "code",
   "execution_count": null,
   "id": "6b5cee74-2b41-4bfc-874f-a5d115ab0100",
   "metadata": {},
   "outputs": [],
   "source": [
    "hmm"
   ]
  },
  {
   "cell_type": "code",
   "execution_count": null,
   "id": "018afa8b-c349-443a-b772-9fe69bc41673",
   "metadata": {},
   "outputs": [],
   "source": [
    "high"
   ]
  },
  {
   "cell_type": "code",
   "execution_count": null,
   "id": "4df5d0cf-3b04-4e6d-a795-208006586b03",
   "metadata": {},
   "outputs": [],
   "source": [
    "ancient = df[df['model_year'] < 1970]\n",
    "old = df[(df['model_year'] >= 1970) & (df['model_year'] <= 2000)]\n",
    "new_old = df[(df['model_year'] > 2000) & (df['model_year'] < 2015)]\n",
    "new_new = df[df['model_year'] >= 2015]"
   ]
  },
  {
   "cell_type": "code",
   "execution_count": null,
   "id": "ef463a11-17db-4051-8c02-44ad05509331",
   "metadata": {},
   "outputs": [],
   "source": [
    "ancient"
   ]
  },
  {
   "cell_type": "code",
   "execution_count": null,
   "id": "a0365079-9eb6-4020-bdd9-899abbb675e2",
   "metadata": {},
   "outputs": [],
   "source": [
    "old"
   ]
  },
  {
   "cell_type": "code",
   "execution_count": null,
   "id": "425c1f1e-d003-44e4-b397-4dbaf8ce819e",
   "metadata": {},
   "outputs": [],
   "source": [
    "new_old"
   ]
  },
  {
   "cell_type": "code",
   "execution_count": null,
   "id": "d745462e-6e63-45c9-9ca1-311664f6d91c",
   "metadata": {},
   "outputs": [],
   "source": [
    "new_new"
   ]
  },
  {
   "cell_type": "code",
   "execution_count": null,
   "id": "0ab9bed9-7ca4-4dd0-980b-7f607333581f",
   "metadata": {},
   "outputs": [],
   "source": [
    "df['condition'].unique()"
   ]
  },
  {
   "cell_type": "code",
   "execution_count": null,
   "id": "2b4c2019-2b43-4e3d-a87d-024ff8aff903",
   "metadata": {},
   "outputs": [],
   "source": [
    "best = df[df['condition'].isin(['new', 'excellent', 'like new'])]\n",
    "ok = df[df['condition'].isin(['good','fair'])]\n",
    "nope = df[df['condition'].isin(['salvage'])]"
   ]
  },
  {
   "cell_type": "code",
   "execution_count": null,
   "id": "130c2f9b-3290-4ba7-b99d-94a44e0088f5",
   "metadata": {},
   "outputs": [],
   "source": [
    "nope"
   ]
  },
  {
   "cell_type": "code",
   "execution_count": null,
   "id": "58d716af-1d27-445d-8f03-1f05f988a63c",
   "metadata": {},
   "outputs": [],
   "source": [
    "lil_days = df['days_listed'].min()\n",
    "is_it_free = df['days_listed'].max()\n",
    "\n",
    "print(lil_days)\n",
    "print(is_it_free)"
   ]
  },
  {
   "cell_type": "code",
   "execution_count": null,
   "id": "cbbb1b90-53f9-4928-8c33-f18314f40b23",
   "metadata": {},
   "outputs": [],
   "source": [
    "df['cylinders'].unique()"
   ]
  },
  {
   "cell_type": "code",
   "execution_count": null,
   "id": "bb2be3cb-d965-420b-a64f-ec1b35e2f919",
   "metadata": {},
   "outputs": [],
   "source": [
    "df = df.dropna(subset=['cylinders'])"
   ]
  },
  {
   "cell_type": "code",
   "execution_count": null,
   "id": "9a2cafcb-4429-4267-a939-1b4a8c52b3bf",
   "metadata": {},
   "outputs": [],
   "source": [
    "df['cylinders'].unique()"
   ]
  },
  {
   "cell_type": "code",
   "execution_count": null,
   "id": "d031520a-0d8d-4441-bcf2-1d3cc78383b7",
   "metadata": {},
   "outputs": [],
   "source": [
    "fig = px.histogram(df,\n",
    "                   x='condition',\n",
    "                   y='model_year',\n",
    "                   histfunc='count',\n",
    "                   title='Car Condition vs. Model Year')\n",
    "\n",
    "fig.show()"
   ]
  },
  {
   "cell_type": "code",
   "execution_count": null,
   "id": "2b629efb-e8d5-4119-8c00-e20b95bf2728",
   "metadata": {},
   "outputs": [],
   "source": [
    "fig= px.histogram(df,\n",
    "                  x='odometer',\n",
    "                  y='type',\n",
    "                  histfunc='count',\n",
    "                  title='Odometer vs. Type')\n",
    "fig.show()"
   ]
  },
  {
   "cell_type": "code",
   "execution_count": null,
   "id": "26441f42-6efd-4aef-ae12-9ece7c04f477",
   "metadata": {},
   "outputs": [],
   "source": []
  },
  {
   "cell_type": "code",
   "execution_count": null,
   "id": "6d8d4f79-5e6f-48fe-a201-7a8d4229b133",
   "metadata": {},
   "outputs": [],
   "source": []
  }
 ],
 "metadata": {
  "kernelspec": {
   "display_name": "work_in_progress",
   "language": "python",
   "name": "python3"
  },
  "language_info": {
   "codemirror_mode": {
    "name": "ipython",
    "version": 3
   },
   "file_extension": ".py",
   "mimetype": "text/x-python",
   "name": "python",
   "nbconvert_exporter": "python",
   "pygments_lexer": "ipython3",
   "version": "3.12.7"
  }
 },
 "nbformat": 4,
 "nbformat_minor": 5
}
